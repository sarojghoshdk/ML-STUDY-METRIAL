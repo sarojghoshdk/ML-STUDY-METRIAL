{
 "cells": [
  {
   "cell_type": "markdown",
   "metadata": {},
   "source": [
    "## K Nearest Neighbour Classifier"
   ]
  },
  {
   "cell_type": "code",
   "execution_count": 1,
   "metadata": {},
   "outputs": [],
   "source": [
    "import pandas as pd\n",
    "import seaborn as sns\n",
    "import matplotlib.pyplot as plt\n",
    "import numpy as np\n",
    "%matplotlib inline"
   ]
  },
  {
   "cell_type": "code",
   "execution_count": 3,
   "metadata": {},
   "outputs": [],
   "source": [
    "from sklearn.datasets import make_classification\n",
    "\n",
    "x,y = make_classification(\n",
    "    n_samples=1000,     # 1000 observations\n",
    "    n_features=3,       # 3 total features\n",
    "    n_redundant=1,\n",
    "    n_classes=2,        # binary target/label\n",
    "    random_state=999\n",
    ")"
   ]
  },
  {
   "cell_type": "code",
   "execution_count": 4,
   "metadata": {},
   "outputs": [
    {
     "data": {
      "text/plain": [
       "array([[-0.33504974,  0.02852654,  1.16193084],\n",
       "       [-1.37746253, -0.4058213 ,  0.44359618],\n",
       "       [-1.04520026, -0.72334759, -3.10470423],\n",
       "       ...,\n",
       "       [-0.75602574, -0.51816111, -2.20382324],\n",
       "       [ 0.56066316, -0.07335845, -2.15660348],\n",
       "       [-1.87521902, -1.11380394, -4.04620773]])"
      ]
     },
     "execution_count": 4,
     "metadata": {},
     "output_type": "execute_result"
    }
   ],
   "source": [
    "x"
   ]
  },
  {
   "cell_type": "code",
   "execution_count": 7,
   "metadata": {},
   "outputs": [],
   "source": [
    "from sklearn.model_selection import train_test_split"
   ]
  },
  {
   "cell_type": "code",
   "execution_count": 8,
   "metadata": {},
   "outputs": [],
   "source": [
    "x_train, x_test, y_train, y_test = train_test_split(x,y, test_size=0.33,\n",
    "                                                    random_state=42)"
   ]
  },
  {
   "cell_type": "code",
   "execution_count": 9,
   "metadata": {},
   "outputs": [],
   "source": [
    "from sklearn.neighbors import KNeighborsClassifier"
   ]
  },
  {
   "cell_type": "code",
   "execution_count": 10,
   "metadata": {},
   "outputs": [
    {
     "data": {
      "text/html": [
       "<style>#sk-container-id-1 {color: black;}#sk-container-id-1 pre{padding: 0;}#sk-container-id-1 div.sk-toggleable {background-color: white;}#sk-container-id-1 label.sk-toggleable__label {cursor: pointer;display: block;width: 100%;margin-bottom: 0;padding: 0.3em;box-sizing: border-box;text-align: center;}#sk-container-id-1 label.sk-toggleable__label-arrow:before {content: \"▸\";float: left;margin-right: 0.25em;color: #696969;}#sk-container-id-1 label.sk-toggleable__label-arrow:hover:before {color: black;}#sk-container-id-1 div.sk-estimator:hover label.sk-toggleable__label-arrow:before {color: black;}#sk-container-id-1 div.sk-toggleable__content {max-height: 0;max-width: 0;overflow: hidden;text-align: left;background-color: #f0f8ff;}#sk-container-id-1 div.sk-toggleable__content pre {margin: 0.2em;color: black;border-radius: 0.25em;background-color: #f0f8ff;}#sk-container-id-1 input.sk-toggleable__control:checked~div.sk-toggleable__content {max-height: 200px;max-width: 100%;overflow: auto;}#sk-container-id-1 input.sk-toggleable__control:checked~label.sk-toggleable__label-arrow:before {content: \"▾\";}#sk-container-id-1 div.sk-estimator input.sk-toggleable__control:checked~label.sk-toggleable__label {background-color: #d4ebff;}#sk-container-id-1 div.sk-label input.sk-toggleable__control:checked~label.sk-toggleable__label {background-color: #d4ebff;}#sk-container-id-1 input.sk-hidden--visually {border: 0;clip: rect(1px 1px 1px 1px);clip: rect(1px, 1px, 1px, 1px);height: 1px;margin: -1px;overflow: hidden;padding: 0;position: absolute;width: 1px;}#sk-container-id-1 div.sk-estimator {font-family: monospace;background-color: #f0f8ff;border: 1px dotted black;border-radius: 0.25em;box-sizing: border-box;margin-bottom: 0.5em;}#sk-container-id-1 div.sk-estimator:hover {background-color: #d4ebff;}#sk-container-id-1 div.sk-parallel-item::after {content: \"\";width: 100%;border-bottom: 1px solid gray;flex-grow: 1;}#sk-container-id-1 div.sk-label:hover label.sk-toggleable__label {background-color: #d4ebff;}#sk-container-id-1 div.sk-serial::before {content: \"\";position: absolute;border-left: 1px solid gray;box-sizing: border-box;top: 0;bottom: 0;left: 50%;z-index: 0;}#sk-container-id-1 div.sk-serial {display: flex;flex-direction: column;align-items: center;background-color: white;padding-right: 0.2em;padding-left: 0.2em;position: relative;}#sk-container-id-1 div.sk-item {position: relative;z-index: 1;}#sk-container-id-1 div.sk-parallel {display: flex;align-items: stretch;justify-content: center;background-color: white;position: relative;}#sk-container-id-1 div.sk-item::before, #sk-container-id-1 div.sk-parallel-item::before {content: \"\";position: absolute;border-left: 1px solid gray;box-sizing: border-box;top: 0;bottom: 0;left: 50%;z-index: -1;}#sk-container-id-1 div.sk-parallel-item {display: flex;flex-direction: column;z-index: 1;position: relative;background-color: white;}#sk-container-id-1 div.sk-parallel-item:first-child::after {align-self: flex-end;width: 50%;}#sk-container-id-1 div.sk-parallel-item:last-child::after {align-self: flex-start;width: 50%;}#sk-container-id-1 div.sk-parallel-item:only-child::after {width: 0;}#sk-container-id-1 div.sk-dashed-wrapped {border: 1px dashed gray;margin: 0 0.4em 0.5em 0.4em;box-sizing: border-box;padding-bottom: 0.4em;background-color: white;}#sk-container-id-1 div.sk-label label {font-family: monospace;font-weight: bold;display: inline-block;line-height: 1.2em;}#sk-container-id-1 div.sk-label-container {text-align: center;}#sk-container-id-1 div.sk-container {/* jupyter's `normalize.less` sets `[hidden] { display: none; }` but bootstrap.min.css set `[hidden] { display: none !important; }` so we also need the `!important` here to be able to override the default hidden behavior on the sphinx rendered scikit-learn.org. See: https://github.com/scikit-learn/scikit-learn/issues/21755 */display: inline-block !important;position: relative;}#sk-container-id-1 div.sk-text-repr-fallback {display: none;}</style><div id=\"sk-container-id-1\" class=\"sk-top-container\"><div class=\"sk-text-repr-fallback\"><pre>KNeighborsClassifier()</pre><b>In a Jupyter environment, please rerun this cell to show the HTML representation or trust the notebook. <br />On GitHub, the HTML representation is unable to render, please try loading this page with nbviewer.org.</b></div><div class=\"sk-container\" hidden><div class=\"sk-item\"><div class=\"sk-estimator sk-toggleable\"><input class=\"sk-toggleable__control sk-hidden--visually\" id=\"sk-estimator-id-1\" type=\"checkbox\" checked><label for=\"sk-estimator-id-1\" class=\"sk-toggleable__label sk-toggleable__label-arrow\">KNeighborsClassifier</label><div class=\"sk-toggleable__content\"><pre>KNeighborsClassifier()</pre></div></div></div></div></div>"
      ],
      "text/plain": [
       "KNeighborsClassifier()"
      ]
     },
     "execution_count": 10,
     "metadata": {},
     "output_type": "execute_result"
    }
   ],
   "source": [
    "classifier = KNeighborsClassifier(n_neighbors=5,algorithm='auto')\n",
    "classifier.fit(x_train,y_train)"
   ]
  },
  {
   "cell_type": "code",
   "execution_count": 11,
   "metadata": {},
   "outputs": [],
   "source": [
    "y_pred = classifier.predict(x_test)"
   ]
  },
  {
   "cell_type": "code",
   "execution_count": 13,
   "metadata": {},
   "outputs": [],
   "source": [
    "from sklearn.metrics import confusion_matrix,accuracy_score,classification_report"
   ]
  },
  {
   "cell_type": "code",
   "execution_count": 14,
   "metadata": {},
   "outputs": [
    {
     "name": "stdout",
     "output_type": "stream",
     "text": [
      "[[158  11]\n",
      " [ 20 141]]\n",
      "0.906060606060606\n",
      "              precision    recall  f1-score   support\n",
      "\n",
      "           0       0.89      0.93      0.91       169\n",
      "           1       0.93      0.88      0.90       161\n",
      "\n",
      "    accuracy                           0.91       330\n",
      "   macro avg       0.91      0.91      0.91       330\n",
      "weighted avg       0.91      0.91      0.91       330\n",
      "\n"
     ]
    }
   ],
   "source": [
    "print(confusion_matrix(y_test,y_pred))\n",
    "print(accuracy_score(y_test,y_pred))\n",
    "print(classification_report(y_test,y_pred))"
   ]
  },
  {
   "cell_type": "code",
   "execution_count": null,
   "metadata": {},
   "outputs": [],
   "source": [
    "## Task\n",
    "GridsearchCV\n",
    "for i k=1,2,3,4,5,6,7,8,9,10\n",
    "\n",
    "## K best"
   ]
  },
  {
   "cell_type": "code",
   "execution_count": 18,
   "metadata": {},
   "outputs": [],
   "source": [
    "## Hypeparameter Tuning\n",
    "params={'n_neighbors':[1,2,3,4,5,6,7,8,9,10],\n",
    "              'weights':['uniform', 'distance']\n",
    "              }"
   ]
  },
  {
   "cell_type": "code",
   "execution_count": 19,
   "metadata": {},
   "outputs": [],
   "source": [
    "from sklearn.model_selection import GridSearchCV"
   ]
  },
  {
   "cell_type": "code",
   "execution_count": 21,
   "metadata": {},
   "outputs": [
    {
     "name": "stdout",
     "output_type": "stream",
     "text": [
      "Fitting 5 folds for each of 20 candidates, totalling 100 fits\n",
      "[CV 1/5] END ....n_neighbors=1, weights=uniform;, score=0.873 total time=   0.0s\n",
      "[CV 2/5] END ....n_neighbors=1, weights=uniform;, score=0.903 total time=   0.0s\n",
      "[CV 3/5] END ....n_neighbors=1, weights=uniform;, score=0.866 total time=   0.0s\n",
      "[CV 4/5] END ....n_neighbors=1, weights=uniform;, score=0.858 total time=   0.0s\n",
      "[CV 5/5] END ....n_neighbors=1, weights=uniform;, score=0.888 total time=   0.0s\n",
      "[CV 1/5] END ...n_neighbors=1, weights=distance;, score=0.873 total time=   0.0s\n",
      "[CV 2/5] END ...n_neighbors=1, weights=distance;, score=0.903 total time=   0.0s\n",
      "[CV 3/5] END ...n_neighbors=1, weights=distance;, score=0.866 total time=   0.0s\n",
      "[CV 4/5] END ...n_neighbors=1, weights=distance;, score=0.858 total time=   0.0s\n",
      "[CV 5/5] END ...n_neighbors=1, weights=distance;, score=0.888 total time=   0.0s\n",
      "[CV 1/5] END ....n_neighbors=2, weights=uniform;, score=0.881 total time=   0.0s\n",
      "[CV 2/5] END ....n_neighbors=2, weights=uniform;, score=0.903 total time=   0.0s\n",
      "[CV 3/5] END ....n_neighbors=2, weights=uniform;, score=0.858 total time=   0.0s\n",
      "[CV 4/5] END ....n_neighbors=2, weights=uniform;, score=0.843 total time=   0.0s\n",
      "[CV 5/5] END ....n_neighbors=2, weights=uniform;, score=0.873 total time=   0.0s\n",
      "[CV 1/5] END ...n_neighbors=2, weights=distance;, score=0.873 total time=   0.0s\n",
      "[CV 2/5] END ...n_neighbors=2, weights=distance;, score=0.903 total time=   0.0s\n",
      "[CV 3/5] END ...n_neighbors=2, weights=distance;, score=0.866 total time=   0.0s\n",
      "[CV 4/5] END ...n_neighbors=2, weights=distance;, score=0.858 total time=   0.0s\n",
      "[CV 5/5] END ...n_neighbors=2, weights=distance;, score=0.888 total time=   0.0s\n",
      "[CV 1/5] END ....n_neighbors=3, weights=uniform;, score=0.925 total time=   0.0s\n",
      "[CV 2/5] END ....n_neighbors=3, weights=uniform;, score=0.873 total time=   0.0s\n",
      "[CV 3/5] END ....n_neighbors=3, weights=uniform;, score=0.866 total time=   0.0s\n",
      "[CV 4/5] END ....n_neighbors=3, weights=uniform;, score=0.873 total time=   0.0s\n",
      "[CV 5/5] END ....n_neighbors=3, weights=uniform;, score=0.888 total time=   0.0s\n",
      "[CV 1/5] END ...n_neighbors=3, weights=distance;, score=0.910 total time=   0.0s\n",
      "[CV 2/5] END ...n_neighbors=3, weights=distance;, score=0.903 total time=   0.0s\n",
      "[CV 3/5] END ...n_neighbors=3, weights=distance;, score=0.881 total time=   0.0s\n",
      "[CV 4/5] END ...n_neighbors=3, weights=distance;, score=0.873 total time=   0.0s\n",
      "[CV 5/5] END ...n_neighbors=3, weights=distance;, score=0.896 total time=   0.0s\n",
      "[CV 1/5] END ....n_neighbors=4, weights=uniform;, score=0.940 total time=   0.0s\n",
      "[CV 2/5] END ....n_neighbors=4, weights=uniform;, score=0.858 total time=   0.0s\n",
      "[CV 3/5] END ....n_neighbors=4, weights=uniform;, score=0.843 total time=   0.0s\n",
      "[CV 4/5] END ....n_neighbors=4, weights=uniform;, score=0.858 total time=   0.0s\n",
      "[CV 5/5] END ....n_neighbors=4, weights=uniform;, score=0.888 total time=   0.0s\n",
      "[CV 1/5] END ...n_neighbors=4, weights=distance;, score=0.925 total time=   0.0s\n",
      "[CV 2/5] END ...n_neighbors=4, weights=distance;, score=0.858 total time=   0.0s\n",
      "[CV 3/5] END ...n_neighbors=4, weights=distance;, score=0.873 total time=   0.0s\n",
      "[CV 4/5] END ...n_neighbors=4, weights=distance;, score=0.873 total time=   0.0s\n",
      "[CV 5/5] END ...n_neighbors=4, weights=distance;, score=0.896 total time=   0.0s\n",
      "[CV 1/5] END ....n_neighbors=5, weights=uniform;, score=0.933 total time=   0.0s\n",
      "[CV 2/5] END ....n_neighbors=5, weights=uniform;, score=0.866 total time=   0.0s\n",
      "[CV 3/5] END ....n_neighbors=5, weights=uniform;, score=0.881 total time=   0.0s\n",
      "[CV 4/5] END ....n_neighbors=5, weights=uniform;, score=0.873 total time=   0.0s\n",
      "[CV 5/5] END ....n_neighbors=5, weights=uniform;, score=0.888 total time=   0.0s\n",
      "[CV 1/5] END ...n_neighbors=5, weights=distance;, score=0.940 total time=   0.0s\n",
      "[CV 2/5] END ...n_neighbors=5, weights=distance;, score=0.866 total time=   0.0s\n",
      "[CV 3/5] END ...n_neighbors=5, weights=distance;, score=0.888 total time=   0.0s\n",
      "[CV 4/5] END ...n_neighbors=5, weights=distance;, score=0.881 total time=   0.0s\n",
      "[CV 5/5] END ...n_neighbors=5, weights=distance;, score=0.903 total time=   0.0s\n",
      "[CV 1/5] END ....n_neighbors=6, weights=uniform;, score=0.933 total time=   0.0s\n",
      "[CV 2/5] END ....n_neighbors=6, weights=uniform;, score=0.866 total time=   0.0s\n",
      "[CV 3/5] END ....n_neighbors=6, weights=uniform;, score=0.843 total time=   0.0s\n",
      "[CV 4/5] END ....n_neighbors=6, weights=uniform;, score=0.881 total time=   0.0s\n",
      "[CV 5/5] END ....n_neighbors=6, weights=uniform;, score=0.881 total time=   0.0s\n",
      "[CV 1/5] END ...n_neighbors=6, weights=distance;, score=0.925 total time=   0.0s\n",
      "[CV 2/5] END ...n_neighbors=6, weights=distance;, score=0.843 total time=   0.0s\n",
      "[CV 3/5] END ...n_neighbors=6, weights=distance;, score=0.873 total time=   0.0s\n",
      "[CV 4/5] END ...n_neighbors=6, weights=distance;, score=0.881 total time=   0.0s\n",
      "[CV 5/5] END ...n_neighbors=6, weights=distance;, score=0.903 total time=   0.0s\n",
      "[CV 1/5] END ....n_neighbors=7, weights=uniform;, score=0.933 total time=   0.0s\n",
      "[CV 2/5] END ....n_neighbors=7, weights=uniform;, score=0.873 total time=   0.0s\n",
      "[CV 3/5] END ....n_neighbors=7, weights=uniform;, score=0.896 total time=   0.0s\n",
      "[CV 4/5] END ....n_neighbors=7, weights=uniform;, score=0.881 total time=   0.0s\n",
      "[CV 5/5] END ....n_neighbors=7, weights=uniform;, score=0.896 total time=   0.0s\n",
      "[CV 1/5] END ...n_neighbors=7, weights=distance;, score=0.933 total time=   0.0s\n",
      "[CV 2/5] END ...n_neighbors=7, weights=distance;, score=0.858 total time=   0.0s\n",
      "[CV 3/5] END ...n_neighbors=7, weights=distance;, score=0.881 total time=   0.0s\n",
      "[CV 4/5] END ...n_neighbors=7, weights=distance;, score=0.873 total time=   0.0s\n",
      "[CV 5/5] END ...n_neighbors=7, weights=distance;, score=0.896 total time=   0.0s\n",
      "[CV 1/5] END ....n_neighbors=8, weights=uniform;, score=0.940 total time=   0.0s\n",
      "[CV 2/5] END ....n_neighbors=8, weights=uniform;, score=0.888 total time=   0.0s\n",
      "[CV 3/5] END ....n_neighbors=8, weights=uniform;, score=0.866 total time=   0.0s\n",
      "[CV 4/5] END ....n_neighbors=8, weights=uniform;, score=0.881 total time=   0.0s\n",
      "[CV 5/5] END ....n_neighbors=8, weights=uniform;, score=0.903 total time=   0.0s\n",
      "[CV 1/5] END ...n_neighbors=8, weights=distance;, score=0.933 total time=   0.0s\n",
      "[CV 2/5] END ...n_neighbors=8, weights=distance;, score=0.858 total time=   0.0s\n",
      "[CV 3/5] END ...n_neighbors=8, weights=distance;, score=0.881 total time=   0.0s\n",
      "[CV 4/5] END ...n_neighbors=8, weights=distance;, score=0.873 total time=   0.0s\n",
      "[CV 5/5] END ...n_neighbors=8, weights=distance;, score=0.896 total time=   0.0s\n",
      "[CV 1/5] END ....n_neighbors=9, weights=uniform;, score=0.933 total time=   0.0s\n",
      "[CV 2/5] END ....n_neighbors=9, weights=uniform;, score=0.888 total time=   0.0s\n",
      "[CV 3/5] END ....n_neighbors=9, weights=uniform;, score=0.896 total time=   0.0s\n",
      "[CV 4/5] END ....n_neighbors=9, weights=uniform;, score=0.903 total time=   0.0s\n",
      "[CV 5/5] END ....n_neighbors=9, weights=uniform;, score=0.896 total time=   0.0s\n",
      "[CV 1/5] END ...n_neighbors=9, weights=distance;, score=0.925 total time=   0.0s\n",
      "[CV 2/5] END ...n_neighbors=9, weights=distance;, score=0.873 total time=   0.0s\n",
      "[CV 3/5] END ...n_neighbors=9, weights=distance;, score=0.888 total time=   0.0s\n",
      "[CV 4/5] END ...n_neighbors=9, weights=distance;, score=0.858 total time=   0.0s\n",
      "[CV 5/5] END ...n_neighbors=9, weights=distance;, score=0.888 total time=   0.0s\n",
      "[CV 1/5] END ...n_neighbors=10, weights=uniform;, score=0.925 total time=   0.0s\n",
      "[CV 2/5] END ...n_neighbors=10, weights=uniform;, score=0.881 total time=   0.0s\n",
      "[CV 3/5] END ...n_neighbors=10, weights=uniform;, score=0.881 total time=   0.0s\n",
      "[CV 4/5] END ...n_neighbors=10, weights=uniform;, score=0.888 total time=   0.0s\n",
      "[CV 5/5] END ...n_neighbors=10, weights=uniform;, score=0.910 total time=   0.0s\n",
      "[CV 1/5] END ..n_neighbors=10, weights=distance;, score=0.925 total time=   0.0s\n",
      "[CV 2/5] END ..n_neighbors=10, weights=distance;, score=0.866 total time=   0.0s\n",
      "[CV 3/5] END ..n_neighbors=10, weights=distance;, score=0.896 total time=   0.0s\n",
      "[CV 4/5] END ..n_neighbors=10, weights=distance;, score=0.866 total time=   0.0s\n",
      "[CV 5/5] END ..n_neighbors=10, weights=distance;, score=0.896 total time=   0.0s\n"
     ]
    },
    {
     "data": {
      "text/html": [
       "<style>#sk-container-id-2 {color: black;}#sk-container-id-2 pre{padding: 0;}#sk-container-id-2 div.sk-toggleable {background-color: white;}#sk-container-id-2 label.sk-toggleable__label {cursor: pointer;display: block;width: 100%;margin-bottom: 0;padding: 0.3em;box-sizing: border-box;text-align: center;}#sk-container-id-2 label.sk-toggleable__label-arrow:before {content: \"▸\";float: left;margin-right: 0.25em;color: #696969;}#sk-container-id-2 label.sk-toggleable__label-arrow:hover:before {color: black;}#sk-container-id-2 div.sk-estimator:hover label.sk-toggleable__label-arrow:before {color: black;}#sk-container-id-2 div.sk-toggleable__content {max-height: 0;max-width: 0;overflow: hidden;text-align: left;background-color: #f0f8ff;}#sk-container-id-2 div.sk-toggleable__content pre {margin: 0.2em;color: black;border-radius: 0.25em;background-color: #f0f8ff;}#sk-container-id-2 input.sk-toggleable__control:checked~div.sk-toggleable__content {max-height: 200px;max-width: 100%;overflow: auto;}#sk-container-id-2 input.sk-toggleable__control:checked~label.sk-toggleable__label-arrow:before {content: \"▾\";}#sk-container-id-2 div.sk-estimator input.sk-toggleable__control:checked~label.sk-toggleable__label {background-color: #d4ebff;}#sk-container-id-2 div.sk-label input.sk-toggleable__control:checked~label.sk-toggleable__label {background-color: #d4ebff;}#sk-container-id-2 input.sk-hidden--visually {border: 0;clip: rect(1px 1px 1px 1px);clip: rect(1px, 1px, 1px, 1px);height: 1px;margin: -1px;overflow: hidden;padding: 0;position: absolute;width: 1px;}#sk-container-id-2 div.sk-estimator {font-family: monospace;background-color: #f0f8ff;border: 1px dotted black;border-radius: 0.25em;box-sizing: border-box;margin-bottom: 0.5em;}#sk-container-id-2 div.sk-estimator:hover {background-color: #d4ebff;}#sk-container-id-2 div.sk-parallel-item::after {content: \"\";width: 100%;border-bottom: 1px solid gray;flex-grow: 1;}#sk-container-id-2 div.sk-label:hover label.sk-toggleable__label {background-color: #d4ebff;}#sk-container-id-2 div.sk-serial::before {content: \"\";position: absolute;border-left: 1px solid gray;box-sizing: border-box;top: 0;bottom: 0;left: 50%;z-index: 0;}#sk-container-id-2 div.sk-serial {display: flex;flex-direction: column;align-items: center;background-color: white;padding-right: 0.2em;padding-left: 0.2em;position: relative;}#sk-container-id-2 div.sk-item {position: relative;z-index: 1;}#sk-container-id-2 div.sk-parallel {display: flex;align-items: stretch;justify-content: center;background-color: white;position: relative;}#sk-container-id-2 div.sk-item::before, #sk-container-id-2 div.sk-parallel-item::before {content: \"\";position: absolute;border-left: 1px solid gray;box-sizing: border-box;top: 0;bottom: 0;left: 50%;z-index: -1;}#sk-container-id-2 div.sk-parallel-item {display: flex;flex-direction: column;z-index: 1;position: relative;background-color: white;}#sk-container-id-2 div.sk-parallel-item:first-child::after {align-self: flex-end;width: 50%;}#sk-container-id-2 div.sk-parallel-item:last-child::after {align-self: flex-start;width: 50%;}#sk-container-id-2 div.sk-parallel-item:only-child::after {width: 0;}#sk-container-id-2 div.sk-dashed-wrapped {border: 1px dashed gray;margin: 0 0.4em 0.5em 0.4em;box-sizing: border-box;padding-bottom: 0.4em;background-color: white;}#sk-container-id-2 div.sk-label label {font-family: monospace;font-weight: bold;display: inline-block;line-height: 1.2em;}#sk-container-id-2 div.sk-label-container {text-align: center;}#sk-container-id-2 div.sk-container {/* jupyter's `normalize.less` sets `[hidden] { display: none; }` but bootstrap.min.css set `[hidden] { display: none !important; }` so we also need the `!important` here to be able to override the default hidden behavior on the sphinx rendered scikit-learn.org. See: https://github.com/scikit-learn/scikit-learn/issues/21755 */display: inline-block !important;position: relative;}#sk-container-id-2 div.sk-text-repr-fallback {display: none;}</style><div id=\"sk-container-id-2\" class=\"sk-top-container\"><div class=\"sk-text-repr-fallback\"><pre>GridSearchCV(cv=5, estimator=KNeighborsClassifier(),\n",
       "             param_grid={&#x27;n_neighbors&#x27;: [1, 2, 3, 4, 5, 6, 7, 8, 9, 10],\n",
       "                         &#x27;weights&#x27;: [&#x27;uniform&#x27;, &#x27;distance&#x27;]},\n",
       "             scoring=&#x27;accuracy&#x27;, verbose=3)</pre><b>In a Jupyter environment, please rerun this cell to show the HTML representation or trust the notebook. <br />On GitHub, the HTML representation is unable to render, please try loading this page with nbviewer.org.</b></div><div class=\"sk-container\" hidden><div class=\"sk-item sk-dashed-wrapped\"><div class=\"sk-label-container\"><div class=\"sk-label sk-toggleable\"><input class=\"sk-toggleable__control sk-hidden--visually\" id=\"sk-estimator-id-2\" type=\"checkbox\" ><label for=\"sk-estimator-id-2\" class=\"sk-toggleable__label sk-toggleable__label-arrow\">GridSearchCV</label><div class=\"sk-toggleable__content\"><pre>GridSearchCV(cv=5, estimator=KNeighborsClassifier(),\n",
       "             param_grid={&#x27;n_neighbors&#x27;: [1, 2, 3, 4, 5, 6, 7, 8, 9, 10],\n",
       "                         &#x27;weights&#x27;: [&#x27;uniform&#x27;, &#x27;distance&#x27;]},\n",
       "             scoring=&#x27;accuracy&#x27;, verbose=3)</pre></div></div></div><div class=\"sk-parallel\"><div class=\"sk-parallel-item\"><div class=\"sk-item\"><div class=\"sk-label-container\"><div class=\"sk-label sk-toggleable\"><input class=\"sk-toggleable__control sk-hidden--visually\" id=\"sk-estimator-id-3\" type=\"checkbox\" ><label for=\"sk-estimator-id-3\" class=\"sk-toggleable__label sk-toggleable__label-arrow\">estimator: KNeighborsClassifier</label><div class=\"sk-toggleable__content\"><pre>KNeighborsClassifier()</pre></div></div></div><div class=\"sk-serial\"><div class=\"sk-item\"><div class=\"sk-estimator sk-toggleable\"><input class=\"sk-toggleable__control sk-hidden--visually\" id=\"sk-estimator-id-4\" type=\"checkbox\" ><label for=\"sk-estimator-id-4\" class=\"sk-toggleable__label sk-toggleable__label-arrow\">KNeighborsClassifier</label><div class=\"sk-toggleable__content\"><pre>KNeighborsClassifier()</pre></div></div></div></div></div></div></div></div></div></div>"
      ],
      "text/plain": [
       "GridSearchCV(cv=5, estimator=KNeighborsClassifier(),\n",
       "             param_grid={'n_neighbors': [1, 2, 3, 4, 5, 6, 7, 8, 9, 10],\n",
       "                         'weights': ['uniform', 'distance']},\n",
       "             scoring='accuracy', verbose=3)"
      ]
     },
     "execution_count": 21,
     "metadata": {},
     "output_type": "execute_result"
    }
   ],
   "source": [
    "cv = GridSearchCV(classifier,param_grid=params,scoring='accuracy',\n",
    "                  cv=5,verbose=3)\n",
    "cv.fit(x_train,y_train)"
   ]
  },
  {
   "cell_type": "code",
   "execution_count": 22,
   "metadata": {},
   "outputs": [
    {
     "data": {
      "text/plain": [
       "{'n_neighbors': 9, 'weights': 'uniform'}"
      ]
     },
     "execution_count": 22,
     "metadata": {},
     "output_type": "execute_result"
    }
   ],
   "source": [
    "cv.best_params_"
   ]
  },
  {
   "cell_type": "code",
   "execution_count": 23,
   "metadata": {},
   "outputs": [
    {
     "data": {
      "text/html": [
       "<style>#sk-container-id-3 {color: black;}#sk-container-id-3 pre{padding: 0;}#sk-container-id-3 div.sk-toggleable {background-color: white;}#sk-container-id-3 label.sk-toggleable__label {cursor: pointer;display: block;width: 100%;margin-bottom: 0;padding: 0.3em;box-sizing: border-box;text-align: center;}#sk-container-id-3 label.sk-toggleable__label-arrow:before {content: \"▸\";float: left;margin-right: 0.25em;color: #696969;}#sk-container-id-3 label.sk-toggleable__label-arrow:hover:before {color: black;}#sk-container-id-3 div.sk-estimator:hover label.sk-toggleable__label-arrow:before {color: black;}#sk-container-id-3 div.sk-toggleable__content {max-height: 0;max-width: 0;overflow: hidden;text-align: left;background-color: #f0f8ff;}#sk-container-id-3 div.sk-toggleable__content pre {margin: 0.2em;color: black;border-radius: 0.25em;background-color: #f0f8ff;}#sk-container-id-3 input.sk-toggleable__control:checked~div.sk-toggleable__content {max-height: 200px;max-width: 100%;overflow: auto;}#sk-container-id-3 input.sk-toggleable__control:checked~label.sk-toggleable__label-arrow:before {content: \"▾\";}#sk-container-id-3 div.sk-estimator input.sk-toggleable__control:checked~label.sk-toggleable__label {background-color: #d4ebff;}#sk-container-id-3 div.sk-label input.sk-toggleable__control:checked~label.sk-toggleable__label {background-color: #d4ebff;}#sk-container-id-3 input.sk-hidden--visually {border: 0;clip: rect(1px 1px 1px 1px);clip: rect(1px, 1px, 1px, 1px);height: 1px;margin: -1px;overflow: hidden;padding: 0;position: absolute;width: 1px;}#sk-container-id-3 div.sk-estimator {font-family: monospace;background-color: #f0f8ff;border: 1px dotted black;border-radius: 0.25em;box-sizing: border-box;margin-bottom: 0.5em;}#sk-container-id-3 div.sk-estimator:hover {background-color: #d4ebff;}#sk-container-id-3 div.sk-parallel-item::after {content: \"\";width: 100%;border-bottom: 1px solid gray;flex-grow: 1;}#sk-container-id-3 div.sk-label:hover label.sk-toggleable__label {background-color: #d4ebff;}#sk-container-id-3 div.sk-serial::before {content: \"\";position: absolute;border-left: 1px solid gray;box-sizing: border-box;top: 0;bottom: 0;left: 50%;z-index: 0;}#sk-container-id-3 div.sk-serial {display: flex;flex-direction: column;align-items: center;background-color: white;padding-right: 0.2em;padding-left: 0.2em;position: relative;}#sk-container-id-3 div.sk-item {position: relative;z-index: 1;}#sk-container-id-3 div.sk-parallel {display: flex;align-items: stretch;justify-content: center;background-color: white;position: relative;}#sk-container-id-3 div.sk-item::before, #sk-container-id-3 div.sk-parallel-item::before {content: \"\";position: absolute;border-left: 1px solid gray;box-sizing: border-box;top: 0;bottom: 0;left: 50%;z-index: -1;}#sk-container-id-3 div.sk-parallel-item {display: flex;flex-direction: column;z-index: 1;position: relative;background-color: white;}#sk-container-id-3 div.sk-parallel-item:first-child::after {align-self: flex-end;width: 50%;}#sk-container-id-3 div.sk-parallel-item:last-child::after {align-self: flex-start;width: 50%;}#sk-container-id-3 div.sk-parallel-item:only-child::after {width: 0;}#sk-container-id-3 div.sk-dashed-wrapped {border: 1px dashed gray;margin: 0 0.4em 0.5em 0.4em;box-sizing: border-box;padding-bottom: 0.4em;background-color: white;}#sk-container-id-3 div.sk-label label {font-family: monospace;font-weight: bold;display: inline-block;line-height: 1.2em;}#sk-container-id-3 div.sk-label-container {text-align: center;}#sk-container-id-3 div.sk-container {/* jupyter's `normalize.less` sets `[hidden] { display: none; }` but bootstrap.min.css set `[hidden] { display: none !important; }` so we also need the `!important` here to be able to override the default hidden behavior on the sphinx rendered scikit-learn.org. See: https://github.com/scikit-learn/scikit-learn/issues/21755 */display: inline-block !important;position: relative;}#sk-container-id-3 div.sk-text-repr-fallback {display: none;}</style><div id=\"sk-container-id-3\" class=\"sk-top-container\"><div class=\"sk-text-repr-fallback\"><pre>KNeighborsClassifier(n_neighbors=9)</pre><b>In a Jupyter environment, please rerun this cell to show the HTML representation or trust the notebook. <br />On GitHub, the HTML representation is unable to render, please try loading this page with nbviewer.org.</b></div><div class=\"sk-container\" hidden><div class=\"sk-item\"><div class=\"sk-estimator sk-toggleable\"><input class=\"sk-toggleable__control sk-hidden--visually\" id=\"sk-estimator-id-5\" type=\"checkbox\" checked><label for=\"sk-estimator-id-5\" class=\"sk-toggleable__label sk-toggleable__label-arrow\">KNeighborsClassifier</label><div class=\"sk-toggleable__content\"><pre>KNeighborsClassifier(n_neighbors=9)</pre></div></div></div></div></div>"
      ],
      "text/plain": [
       "KNeighborsClassifier(n_neighbors=9)"
      ]
     },
     "execution_count": 23,
     "metadata": {},
     "output_type": "execute_result"
    }
   ],
   "source": [
    "classifier = KNeighborsClassifier(n_neighbors=9,algorithm='auto')\n",
    "classifier.fit(x_train,y_train)"
   ]
  },
  {
   "cell_type": "code",
   "execution_count": 24,
   "metadata": {},
   "outputs": [],
   "source": [
    "y_pred = classifier.predict(x_test)"
   ]
  },
  {
   "cell_type": "code",
   "execution_count": 25,
   "metadata": {},
   "outputs": [
    {
     "name": "stdout",
     "output_type": "stream",
     "text": [
      "[[156  13]\n",
      " [ 16 145]]\n",
      "0.9121212121212121\n",
      "              precision    recall  f1-score   support\n",
      "\n",
      "           0       0.91      0.92      0.91       169\n",
      "           1       0.92      0.90      0.91       161\n",
      "\n",
      "    accuracy                           0.91       330\n",
      "   macro avg       0.91      0.91      0.91       330\n",
      "weighted avg       0.91      0.91      0.91       330\n",
      "\n"
     ]
    }
   ],
   "source": [
    "print(confusion_matrix(y_test,y_pred))\n",
    "print(accuracy_score(y_test,y_pred))\n",
    "print(classification_report(y_test,y_pred))"
   ]
  },
  {
   "cell_type": "code",
   "execution_count": null,
   "metadata": {},
   "outputs": [],
   "source": []
  }
 ],
 "metadata": {
  "kernelspec": {
   "display_name": "Python 3",
   "language": "python",
   "name": "python3"
  },
  "language_info": {
   "codemirror_mode": {
    "name": "ipython",
    "version": 3
   },
   "file_extension": ".py",
   "mimetype": "text/x-python",
   "name": "python",
   "nbconvert_exporter": "python",
   "pygments_lexer": "ipython3",
   "version": "3.11.5"
  }
 },
 "nbformat": 4,
 "nbformat_minor": 2
}
