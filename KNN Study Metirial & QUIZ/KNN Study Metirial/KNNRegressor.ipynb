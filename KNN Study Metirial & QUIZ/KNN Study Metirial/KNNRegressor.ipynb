{
 "cells": [
  {
   "cell_type": "markdown",
   "metadata": {},
   "source": [
    "## KNN Regressor"
   ]
  },
  {
   "cell_type": "code",
   "execution_count": 1,
   "metadata": {},
   "outputs": [],
   "source": [
    "from sklearn.datasets import make_regression\n",
    "x,y = make_regression(n_samples=1000, n_features=2, noise=10,\n",
    "                      random_state=42)"
   ]
  },
  {
   "cell_type": "code",
   "execution_count": 2,
   "metadata": {},
   "outputs": [],
   "source": [
    "from sklearn.model_selection import train_test_split\n",
    "x_train, x_test, y_train, y_test = train_test_split(x,y, test_size=0.33,\n",
    "                                                    random_state=42)"
   ]
  },
  {
   "cell_type": "code",
   "execution_count": 3,
   "metadata": {},
   "outputs": [],
   "source": [
    "from sklearn.neighbors import KNeighborsRegressor"
   ]
  },
  {
   "cell_type": "code",
   "execution_count": 4,
   "metadata": {},
   "outputs": [
    {
     "data": {
      "text/html": [
       "<style>#sk-container-id-1 {color: black;}#sk-container-id-1 pre{padding: 0;}#sk-container-id-1 div.sk-toggleable {background-color: white;}#sk-container-id-1 label.sk-toggleable__label {cursor: pointer;display: block;width: 100%;margin-bottom: 0;padding: 0.3em;box-sizing: border-box;text-align: center;}#sk-container-id-1 label.sk-toggleable__label-arrow:before {content: \"▸\";float: left;margin-right: 0.25em;color: #696969;}#sk-container-id-1 label.sk-toggleable__label-arrow:hover:before {color: black;}#sk-container-id-1 div.sk-estimator:hover label.sk-toggleable__label-arrow:before {color: black;}#sk-container-id-1 div.sk-toggleable__content {max-height: 0;max-width: 0;overflow: hidden;text-align: left;background-color: #f0f8ff;}#sk-container-id-1 div.sk-toggleable__content pre {margin: 0.2em;color: black;border-radius: 0.25em;background-color: #f0f8ff;}#sk-container-id-1 input.sk-toggleable__control:checked~div.sk-toggleable__content {max-height: 200px;max-width: 100%;overflow: auto;}#sk-container-id-1 input.sk-toggleable__control:checked~label.sk-toggleable__label-arrow:before {content: \"▾\";}#sk-container-id-1 div.sk-estimator input.sk-toggleable__control:checked~label.sk-toggleable__label {background-color: #d4ebff;}#sk-container-id-1 div.sk-label input.sk-toggleable__control:checked~label.sk-toggleable__label {background-color: #d4ebff;}#sk-container-id-1 input.sk-hidden--visually {border: 0;clip: rect(1px 1px 1px 1px);clip: rect(1px, 1px, 1px, 1px);height: 1px;margin: -1px;overflow: hidden;padding: 0;position: absolute;width: 1px;}#sk-container-id-1 div.sk-estimator {font-family: monospace;background-color: #f0f8ff;border: 1px dotted black;border-radius: 0.25em;box-sizing: border-box;margin-bottom: 0.5em;}#sk-container-id-1 div.sk-estimator:hover {background-color: #d4ebff;}#sk-container-id-1 div.sk-parallel-item::after {content: \"\";width: 100%;border-bottom: 1px solid gray;flex-grow: 1;}#sk-container-id-1 div.sk-label:hover label.sk-toggleable__label {background-color: #d4ebff;}#sk-container-id-1 div.sk-serial::before {content: \"\";position: absolute;border-left: 1px solid gray;box-sizing: border-box;top: 0;bottom: 0;left: 50%;z-index: 0;}#sk-container-id-1 div.sk-serial {display: flex;flex-direction: column;align-items: center;background-color: white;padding-right: 0.2em;padding-left: 0.2em;position: relative;}#sk-container-id-1 div.sk-item {position: relative;z-index: 1;}#sk-container-id-1 div.sk-parallel {display: flex;align-items: stretch;justify-content: center;background-color: white;position: relative;}#sk-container-id-1 div.sk-item::before, #sk-container-id-1 div.sk-parallel-item::before {content: \"\";position: absolute;border-left: 1px solid gray;box-sizing: border-box;top: 0;bottom: 0;left: 50%;z-index: -1;}#sk-container-id-1 div.sk-parallel-item {display: flex;flex-direction: column;z-index: 1;position: relative;background-color: white;}#sk-container-id-1 div.sk-parallel-item:first-child::after {align-self: flex-end;width: 50%;}#sk-container-id-1 div.sk-parallel-item:last-child::after {align-self: flex-start;width: 50%;}#sk-container-id-1 div.sk-parallel-item:only-child::after {width: 0;}#sk-container-id-1 div.sk-dashed-wrapped {border: 1px dashed gray;margin: 0 0.4em 0.5em 0.4em;box-sizing: border-box;padding-bottom: 0.4em;background-color: white;}#sk-container-id-1 div.sk-label label {font-family: monospace;font-weight: bold;display: inline-block;line-height: 1.2em;}#sk-container-id-1 div.sk-label-container {text-align: center;}#sk-container-id-1 div.sk-container {/* jupyter's `normalize.less` sets `[hidden] { display: none; }` but bootstrap.min.css set `[hidden] { display: none !important; }` so we also need the `!important` here to be able to override the default hidden behavior on the sphinx rendered scikit-learn.org. See: https://github.com/scikit-learn/scikit-learn/issues/21755 */display: inline-block !important;position: relative;}#sk-container-id-1 div.sk-text-repr-fallback {display: none;}</style><div id=\"sk-container-id-1\" class=\"sk-top-container\"><div class=\"sk-text-repr-fallback\"><pre>KNeighborsRegressor(n_neighbors=6)</pre><b>In a Jupyter environment, please rerun this cell to show the HTML representation or trust the notebook. <br />On GitHub, the HTML representation is unable to render, please try loading this page with nbviewer.org.</b></div><div class=\"sk-container\" hidden><div class=\"sk-item\"><div class=\"sk-estimator sk-toggleable\"><input class=\"sk-toggleable__control sk-hidden--visually\" id=\"sk-estimator-id-1\" type=\"checkbox\" checked><label for=\"sk-estimator-id-1\" class=\"sk-toggleable__label sk-toggleable__label-arrow\">KNeighborsRegressor</label><div class=\"sk-toggleable__content\"><pre>KNeighborsRegressor(n_neighbors=6)</pre></div></div></div></div></div>"
      ],
      "text/plain": [
       "KNeighborsRegressor(n_neighbors=6)"
      ]
     },
     "execution_count": 4,
     "metadata": {},
     "output_type": "execute_result"
    }
   ],
   "source": [
    "regressor = KNeighborsRegressor(n_neighbors=6,algorithm='auto')\n",
    "regressor.fit(x_train,y_train)"
   ]
  },
  {
   "cell_type": "code",
   "execution_count": 5,
   "metadata": {},
   "outputs": [],
   "source": [
    "y_pred = regressor.predict(x_test)"
   ]
  },
  {
   "cell_type": "code",
   "execution_count": 6,
   "metadata": {},
   "outputs": [],
   "source": [
    "from sklearn.metrics import r2_score,mean_absolute_error,mean_squared_error"
   ]
  },
  {
   "cell_type": "code",
   "execution_count": 7,
   "metadata": {},
   "outputs": [
    {
     "name": "stdout",
     "output_type": "stream",
     "text": [
      "0.9189275159979495\n",
      "9.009462452972217\n",
      "127.45860414317289\n"
     ]
    }
   ],
   "source": [
    "print(r2_score(y_test,y_pred))\n",
    "print(mean_absolute_error(y_test,y_pred))\n",
    "print(mean_squared_error(y_test,y_pred))"
   ]
  },
  {
   "cell_type": "code",
   "execution_count": 8,
   "metadata": {},
   "outputs": [],
   "source": [
    "## Hypeparameter Tuning\n",
    "params={'n_neighbors':[1,2,3,4,5,6,7,8,9,10],\n",
    "              'weights':['uniform', 'distance']\n",
    "              }"
   ]
  },
  {
   "cell_type": "code",
   "execution_count": 9,
   "metadata": {},
   "outputs": [],
   "source": [
    "from sklearn.model_selection import GridSearchCV"
   ]
  },
  {
   "cell_type": "code",
   "execution_count": 11,
   "metadata": {},
   "outputs": [
    {
     "name": "stdout",
     "output_type": "stream",
     "text": [
      "Fitting 5 folds for each of 20 candidates, totalling 100 fits\n",
      "[CV 1/5] END ....n_neighbors=1, weights=uniform;, score=0.868 total time=   0.0s\n",
      "[CV 2/5] END ....n_neighbors=1, weights=uniform;, score=0.888 total time=   0.0s\n",
      "[CV 3/5] END ....n_neighbors=1, weights=uniform;, score=0.900 total time=   0.0s\n",
      "[CV 4/5] END ....n_neighbors=1, weights=uniform;, score=0.902 total time=   0.0s\n",
      "[CV 5/5] END ....n_neighbors=1, weights=uniform;, score=0.850 total time=   0.0s\n",
      "[CV 1/5] END ...n_neighbors=1, weights=distance;, score=0.868 total time=   0.0s\n",
      "[CV 2/5] END ...n_neighbors=1, weights=distance;, score=0.888 total time=   0.0s\n",
      "[CV 3/5] END ...n_neighbors=1, weights=distance;, score=0.900 total time=   0.0s\n",
      "[CV 4/5] END ...n_neighbors=1, weights=distance;, score=0.902 total time=   0.0s\n",
      "[CV 5/5] END ...n_neighbors=1, weights=distance;, score=0.850 total time=   0.0s\n",
      "[CV 1/5] END ....n_neighbors=2, weights=uniform;, score=0.884 total time=   0.0s\n",
      "[CV 2/5] END ....n_neighbors=2, weights=uniform;, score=0.912 total time=   0.0s\n",
      "[CV 3/5] END ....n_neighbors=2, weights=uniform;, score=0.913 total time=   0.0s\n",
      "[CV 4/5] END ....n_neighbors=2, weights=uniform;, score=0.932 total time=   0.0s\n",
      "[CV 5/5] END ....n_neighbors=2, weights=uniform;, score=0.896 total time=   0.0s\n",
      "[CV 1/5] END ...n_neighbors=2, weights=distance;, score=0.885 total time=   0.0s\n",
      "[CV 2/5] END ...n_neighbors=2, weights=distance;, score=0.911 total time=   0.0s\n",
      "[CV 3/5] END ...n_neighbors=2, weights=distance;, score=0.914 total time=   0.0s\n",
      "[CV 4/5] END ...n_neighbors=2, weights=distance;, score=0.931 total time=   0.0s\n",
      "[CV 5/5] END ...n_neighbors=2, weights=distance;, score=0.895 total time=   0.0s\n",
      "[CV 1/5] END ....n_neighbors=3, weights=uniform;, score=0.904 total time=   0.0s\n",
      "[CV 2/5] END ....n_neighbors=3, weights=uniform;, score=0.923 total time=   0.0s\n",
      "[CV 3/5] END ....n_neighbors=3, weights=uniform;, score=0.925 total time=   0.0s\n",
      "[CV 4/5] END ....n_neighbors=3, weights=uniform;, score=0.943 total time=   0.0s\n",
      "[CV 5/5] END ....n_neighbors=3, weights=uniform;, score=0.902 total time=   0.0s\n",
      "[CV 1/5] END ...n_neighbors=3, weights=distance;, score=0.902 total time=   0.0s\n",
      "[CV 2/5] END ...n_neighbors=3, weights=distance;, score=0.923 total time=   0.0s\n",
      "[CV 3/5] END ...n_neighbors=3, weights=distance;, score=0.925 total time=   0.0s\n",
      "[CV 4/5] END ...n_neighbors=3, weights=distance;, score=0.941 total time=   0.0s\n",
      "[CV 5/5] END ...n_neighbors=3, weights=distance;, score=0.900 total time=   0.0s\n",
      "[CV 1/5] END ....n_neighbors=4, weights=uniform;, score=0.912 total time=   0.0s\n",
      "[CV 2/5] END ....n_neighbors=4, weights=uniform;, score=0.926 total time=   0.0s\n",
      "[CV 3/5] END ....n_neighbors=4, weights=uniform;, score=0.927 total time=   0.0s\n",
      "[CV 4/5] END ....n_neighbors=4, weights=uniform;, score=0.940 total time=   0.0s\n",
      "[CV 5/5] END ....n_neighbors=4, weights=uniform;, score=0.907 total time=   0.0s\n",
      "[CV 1/5] END ...n_neighbors=4, weights=distance;, score=0.907 total time=   0.0s\n",
      "[CV 2/5] END ...n_neighbors=4, weights=distance;, score=0.926 total time=   0.0s\n",
      "[CV 3/5] END ...n_neighbors=4, weights=distance;, score=0.929 total time=   0.0s\n",
      "[CV 4/5] END ...n_neighbors=4, weights=distance;, score=0.941 total time=   0.0s\n",
      "[CV 5/5] END ...n_neighbors=4, weights=distance;, score=0.905 total time=   0.0s\n",
      "[CV 1/5] END ....n_neighbors=5, weights=uniform;, score=0.917 total time=   0.0s\n",
      "[CV 2/5] END ....n_neighbors=5, weights=uniform;, score=0.924 total time=   0.0s\n",
      "[CV 3/5] END ....n_neighbors=5, weights=uniform;, score=0.927 total time=   0.0s\n",
      "[CV 4/5] END ....n_neighbors=5, weights=uniform;, score=0.944 total time=   0.0s\n",
      "[CV 5/5] END ....n_neighbors=5, weights=uniform;, score=0.912 total time=   0.0s\n",
      "[CV 1/5] END ...n_neighbors=5, weights=distance;, score=0.913 total time=   0.0s\n",
      "[CV 2/5] END ...n_neighbors=5, weights=distance;, score=0.924 total time=   0.0s\n",
      "[CV 3/5] END ...n_neighbors=5, weights=distance;, score=0.929 total time=   0.0s\n",
      "[CV 4/5] END ...n_neighbors=5, weights=distance;, score=0.944 total time=   0.0s\n",
      "[CV 5/5] END ...n_neighbors=5, weights=distance;, score=0.911 total time=   0.0s\n",
      "[CV 1/5] END ....n_neighbors=6, weights=uniform;, score=0.915 total time=   0.0s\n",
      "[CV 2/5] END ....n_neighbors=6, weights=uniform;, score=0.924 total time=   0.0s\n",
      "[CV 3/5] END ....n_neighbors=6, weights=uniform;, score=0.926 total time=   0.0s\n",
      "[CV 4/5] END ....n_neighbors=6, weights=uniform;, score=0.940 total time=   0.0s\n",
      "[CV 5/5] END ....n_neighbors=6, weights=uniform;, score=0.914 total time=   0.0s\n",
      "[CV 1/5] END ...n_neighbors=6, weights=distance;, score=0.914 total time=   0.0s\n",
      "[CV 2/5] END ...n_neighbors=6, weights=distance;, score=0.925 total time=   0.0s\n",
      "[CV 3/5] END ...n_neighbors=6, weights=distance;, score=0.929 total time=   0.0s\n",
      "[CV 4/5] END ...n_neighbors=6, weights=distance;, score=0.943 total time=   0.0s\n",
      "[CV 5/5] END ...n_neighbors=6, weights=distance;, score=0.913 total time=   0.0s\n",
      "[CV 1/5] END ....n_neighbors=7, weights=uniform;, score=0.916 total time=   0.0s\n",
      "[CV 2/5] END ....n_neighbors=7, weights=uniform;, score=0.925 total time=   0.0s\n",
      "[CV 3/5] END ....n_neighbors=7, weights=uniform;, score=0.923 total time=   0.0s\n",
      "[CV 4/5] END ....n_neighbors=7, weights=uniform;, score=0.942 total time=   0.0s\n",
      "[CV 5/5] END ....n_neighbors=7, weights=uniform;, score=0.922 total time=   0.0s\n",
      "[CV 1/5] END ...n_neighbors=7, weights=distance;, score=0.915 total time=   0.0s\n",
      "[CV 2/5] END ...n_neighbors=7, weights=distance;, score=0.925 total time=   0.0s\n",
      "[CV 3/5] END ...n_neighbors=7, weights=distance;, score=0.928 total time=   0.0s\n",
      "[CV 4/5] END ...n_neighbors=7, weights=distance;, score=0.945 total time=   0.0s\n",
      "[CV 5/5] END ...n_neighbors=7, weights=distance;, score=0.919 total time=   0.0s\n",
      "[CV 1/5] END ....n_neighbors=8, weights=uniform;, score=0.916 total time=   0.0s\n",
      "[CV 2/5] END ....n_neighbors=8, weights=uniform;, score=0.924 total time=   0.0s\n",
      "[CV 3/5] END ....n_neighbors=8, weights=uniform;, score=0.920 total time=   0.0s\n",
      "[CV 4/5] END ....n_neighbors=8, weights=uniform;, score=0.941 total time=   0.0s\n",
      "[CV 5/5] END ....n_neighbors=8, weights=uniform;, score=0.918 total time=   0.0s\n",
      "[CV 1/5] END ...n_neighbors=8, weights=distance;, score=0.916 total time=   0.0s\n",
      "[CV 2/5] END ...n_neighbors=8, weights=distance;, score=0.925 total time=   0.0s\n",
      "[CV 3/5] END ...n_neighbors=8, weights=distance;, score=0.926 total time=   0.0s\n",
      "[CV 4/5] END ...n_neighbors=8, weights=distance;, score=0.945 total time=   0.0s\n",
      "[CV 5/5] END ...n_neighbors=8, weights=distance;, score=0.918 total time=   0.0s\n",
      "[CV 1/5] END ....n_neighbors=9, weights=uniform;, score=0.917 total time=   0.0s\n",
      "[CV 2/5] END ....n_neighbors=9, weights=uniform;, score=0.923 total time=   0.0s\n",
      "[CV 3/5] END ....n_neighbors=9, weights=uniform;, score=0.918 total time=   0.0s\n",
      "[CV 4/5] END ....n_neighbors=9, weights=uniform;, score=0.941 total time=   0.0s\n",
      "[CV 5/5] END ....n_neighbors=9, weights=uniform;, score=0.919 total time=   0.0s\n",
      "[CV 1/5] END ...n_neighbors=9, weights=distance;, score=0.916 total time=   0.0s\n",
      "[CV 2/5] END ...n_neighbors=9, weights=distance;, score=0.925 total time=   0.0s\n",
      "[CV 3/5] END ...n_neighbors=9, weights=distance;, score=0.925 total time=   0.0s\n",
      "[CV 4/5] END ...n_neighbors=9, weights=distance;, score=0.945 total time=   0.0s\n",
      "[CV 5/5] END ...n_neighbors=9, weights=distance;, score=0.919 total time=   0.0s\n",
      "[CV 1/5] END ...n_neighbors=10, weights=uniform;, score=0.916 total time=   0.0s\n",
      "[CV 2/5] END ...n_neighbors=10, weights=uniform;, score=0.922 total time=   0.0s\n",
      "[CV 3/5] END ...n_neighbors=10, weights=uniform;, score=0.916 total time=   0.0s\n",
      "[CV 4/5] END ...n_neighbors=10, weights=uniform;, score=0.940 total time=   0.0s\n",
      "[CV 5/5] END ...n_neighbors=10, weights=uniform;, score=0.918 total time=   0.0s\n",
      "[CV 1/5] END ..n_neighbors=10, weights=distance;, score=0.916 total time=   0.0s\n",
      "[CV 2/5] END ..n_neighbors=10, weights=distance;, score=0.924 total time=   0.0s\n",
      "[CV 3/5] END ..n_neighbors=10, weights=distance;, score=0.924 total time=   0.0s\n",
      "[CV 4/5] END ..n_neighbors=10, weights=distance;, score=0.945 total time=   0.0s\n",
      "[CV 5/5] END ..n_neighbors=10, weights=distance;, score=0.920 total time=   0.0s\n"
     ]
    },
    {
     "data": {
      "text/html": [
       "<style>#sk-container-id-3 {color: black;}#sk-container-id-3 pre{padding: 0;}#sk-container-id-3 div.sk-toggleable {background-color: white;}#sk-container-id-3 label.sk-toggleable__label {cursor: pointer;display: block;width: 100%;margin-bottom: 0;padding: 0.3em;box-sizing: border-box;text-align: center;}#sk-container-id-3 label.sk-toggleable__label-arrow:before {content: \"▸\";float: left;margin-right: 0.25em;color: #696969;}#sk-container-id-3 label.sk-toggleable__label-arrow:hover:before {color: black;}#sk-container-id-3 div.sk-estimator:hover label.sk-toggleable__label-arrow:before {color: black;}#sk-container-id-3 div.sk-toggleable__content {max-height: 0;max-width: 0;overflow: hidden;text-align: left;background-color: #f0f8ff;}#sk-container-id-3 div.sk-toggleable__content pre {margin: 0.2em;color: black;border-radius: 0.25em;background-color: #f0f8ff;}#sk-container-id-3 input.sk-toggleable__control:checked~div.sk-toggleable__content {max-height: 200px;max-width: 100%;overflow: auto;}#sk-container-id-3 input.sk-toggleable__control:checked~label.sk-toggleable__label-arrow:before {content: \"▾\";}#sk-container-id-3 div.sk-estimator input.sk-toggleable__control:checked~label.sk-toggleable__label {background-color: #d4ebff;}#sk-container-id-3 div.sk-label input.sk-toggleable__control:checked~label.sk-toggleable__label {background-color: #d4ebff;}#sk-container-id-3 input.sk-hidden--visually {border: 0;clip: rect(1px 1px 1px 1px);clip: rect(1px, 1px, 1px, 1px);height: 1px;margin: -1px;overflow: hidden;padding: 0;position: absolute;width: 1px;}#sk-container-id-3 div.sk-estimator {font-family: monospace;background-color: #f0f8ff;border: 1px dotted black;border-radius: 0.25em;box-sizing: border-box;margin-bottom: 0.5em;}#sk-container-id-3 div.sk-estimator:hover {background-color: #d4ebff;}#sk-container-id-3 div.sk-parallel-item::after {content: \"\";width: 100%;border-bottom: 1px solid gray;flex-grow: 1;}#sk-container-id-3 div.sk-label:hover label.sk-toggleable__label {background-color: #d4ebff;}#sk-container-id-3 div.sk-serial::before {content: \"\";position: absolute;border-left: 1px solid gray;box-sizing: border-box;top: 0;bottom: 0;left: 50%;z-index: 0;}#sk-container-id-3 div.sk-serial {display: flex;flex-direction: column;align-items: center;background-color: white;padding-right: 0.2em;padding-left: 0.2em;position: relative;}#sk-container-id-3 div.sk-item {position: relative;z-index: 1;}#sk-container-id-3 div.sk-parallel {display: flex;align-items: stretch;justify-content: center;background-color: white;position: relative;}#sk-container-id-3 div.sk-item::before, #sk-container-id-3 div.sk-parallel-item::before {content: \"\";position: absolute;border-left: 1px solid gray;box-sizing: border-box;top: 0;bottom: 0;left: 50%;z-index: -1;}#sk-container-id-3 div.sk-parallel-item {display: flex;flex-direction: column;z-index: 1;position: relative;background-color: white;}#sk-container-id-3 div.sk-parallel-item:first-child::after {align-self: flex-end;width: 50%;}#sk-container-id-3 div.sk-parallel-item:last-child::after {align-self: flex-start;width: 50%;}#sk-container-id-3 div.sk-parallel-item:only-child::after {width: 0;}#sk-container-id-3 div.sk-dashed-wrapped {border: 1px dashed gray;margin: 0 0.4em 0.5em 0.4em;box-sizing: border-box;padding-bottom: 0.4em;background-color: white;}#sk-container-id-3 div.sk-label label {font-family: monospace;font-weight: bold;display: inline-block;line-height: 1.2em;}#sk-container-id-3 div.sk-label-container {text-align: center;}#sk-container-id-3 div.sk-container {/* jupyter's `normalize.less` sets `[hidden] { display: none; }` but bootstrap.min.css set `[hidden] { display: none !important; }` so we also need the `!important` here to be able to override the default hidden behavior on the sphinx rendered scikit-learn.org. See: https://github.com/scikit-learn/scikit-learn/issues/21755 */display: inline-block !important;position: relative;}#sk-container-id-3 div.sk-text-repr-fallback {display: none;}</style><div id=\"sk-container-id-3\" class=\"sk-top-container\"><div class=\"sk-text-repr-fallback\"><pre>GridSearchCV(cv=5, estimator=KNeighborsRegressor(n_neighbors=6),\n",
       "             param_grid={&#x27;n_neighbors&#x27;: [1, 2, 3, 4, 5, 6, 7, 8, 9, 10],\n",
       "                         &#x27;weights&#x27;: [&#x27;uniform&#x27;, &#x27;distance&#x27;]},\n",
       "             scoring=&#x27;explained_variance&#x27;, verbose=3)</pre><b>In a Jupyter environment, please rerun this cell to show the HTML representation or trust the notebook. <br />On GitHub, the HTML representation is unable to render, please try loading this page with nbviewer.org.</b></div><div class=\"sk-container\" hidden><div class=\"sk-item sk-dashed-wrapped\"><div class=\"sk-label-container\"><div class=\"sk-label sk-toggleable\"><input class=\"sk-toggleable__control sk-hidden--visually\" id=\"sk-estimator-id-5\" type=\"checkbox\" ><label for=\"sk-estimator-id-5\" class=\"sk-toggleable__label sk-toggleable__label-arrow\">GridSearchCV</label><div class=\"sk-toggleable__content\"><pre>GridSearchCV(cv=5, estimator=KNeighborsRegressor(n_neighbors=6),\n",
       "             param_grid={&#x27;n_neighbors&#x27;: [1, 2, 3, 4, 5, 6, 7, 8, 9, 10],\n",
       "                         &#x27;weights&#x27;: [&#x27;uniform&#x27;, &#x27;distance&#x27;]},\n",
       "             scoring=&#x27;explained_variance&#x27;, verbose=3)</pre></div></div></div><div class=\"sk-parallel\"><div class=\"sk-parallel-item\"><div class=\"sk-item\"><div class=\"sk-label-container\"><div class=\"sk-label sk-toggleable\"><input class=\"sk-toggleable__control sk-hidden--visually\" id=\"sk-estimator-id-6\" type=\"checkbox\" ><label for=\"sk-estimator-id-6\" class=\"sk-toggleable__label sk-toggleable__label-arrow\">estimator: KNeighborsRegressor</label><div class=\"sk-toggleable__content\"><pre>KNeighborsRegressor(n_neighbors=6)</pre></div></div></div><div class=\"sk-serial\"><div class=\"sk-item\"><div class=\"sk-estimator sk-toggleable\"><input class=\"sk-toggleable__control sk-hidden--visually\" id=\"sk-estimator-id-7\" type=\"checkbox\" ><label for=\"sk-estimator-id-7\" class=\"sk-toggleable__label sk-toggleable__label-arrow\">KNeighborsRegressor</label><div class=\"sk-toggleable__content\"><pre>KNeighborsRegressor(n_neighbors=6)</pre></div></div></div></div></div></div></div></div></div></div>"
      ],
      "text/plain": [
       "GridSearchCV(cv=5, estimator=KNeighborsRegressor(n_neighbors=6),\n",
       "             param_grid={'n_neighbors': [1, 2, 3, 4, 5, 6, 7, 8, 9, 10],\n",
       "                         'weights': ['uniform', 'distance']},\n",
       "             scoring='explained_variance', verbose=3)"
      ]
     },
     "execution_count": 11,
     "metadata": {},
     "output_type": "execute_result"
    }
   ],
   "source": [
    "cv = GridSearchCV(regressor,param_grid=params,scoring='explained_variance',\n",
    "                  cv=5,verbose=3)\n",
    "cv.fit(x_train,y_train)"
   ]
  },
  {
   "cell_type": "code",
   "execution_count": 12,
   "metadata": {},
   "outputs": [
    {
     "data": {
      "text/plain": [
       "{'n_neighbors': 7, 'weights': 'distance'}"
      ]
     },
     "execution_count": 12,
     "metadata": {},
     "output_type": "execute_result"
    }
   ],
   "source": [
    "cv.best_params_"
   ]
  },
  {
   "cell_type": "code",
   "execution_count": 14,
   "metadata": {},
   "outputs": [
    {
     "data": {
      "text/html": [
       "<style>#sk-container-id-5 {color: black;}#sk-container-id-5 pre{padding: 0;}#sk-container-id-5 div.sk-toggleable {background-color: white;}#sk-container-id-5 label.sk-toggleable__label {cursor: pointer;display: block;width: 100%;margin-bottom: 0;padding: 0.3em;box-sizing: border-box;text-align: center;}#sk-container-id-5 label.sk-toggleable__label-arrow:before {content: \"▸\";float: left;margin-right: 0.25em;color: #696969;}#sk-container-id-5 label.sk-toggleable__label-arrow:hover:before {color: black;}#sk-container-id-5 div.sk-estimator:hover label.sk-toggleable__label-arrow:before {color: black;}#sk-container-id-5 div.sk-toggleable__content {max-height: 0;max-width: 0;overflow: hidden;text-align: left;background-color: #f0f8ff;}#sk-container-id-5 div.sk-toggleable__content pre {margin: 0.2em;color: black;border-radius: 0.25em;background-color: #f0f8ff;}#sk-container-id-5 input.sk-toggleable__control:checked~div.sk-toggleable__content {max-height: 200px;max-width: 100%;overflow: auto;}#sk-container-id-5 input.sk-toggleable__control:checked~label.sk-toggleable__label-arrow:before {content: \"▾\";}#sk-container-id-5 div.sk-estimator input.sk-toggleable__control:checked~label.sk-toggleable__label {background-color: #d4ebff;}#sk-container-id-5 div.sk-label input.sk-toggleable__control:checked~label.sk-toggleable__label {background-color: #d4ebff;}#sk-container-id-5 input.sk-hidden--visually {border: 0;clip: rect(1px 1px 1px 1px);clip: rect(1px, 1px, 1px, 1px);height: 1px;margin: -1px;overflow: hidden;padding: 0;position: absolute;width: 1px;}#sk-container-id-5 div.sk-estimator {font-family: monospace;background-color: #f0f8ff;border: 1px dotted black;border-radius: 0.25em;box-sizing: border-box;margin-bottom: 0.5em;}#sk-container-id-5 div.sk-estimator:hover {background-color: #d4ebff;}#sk-container-id-5 div.sk-parallel-item::after {content: \"\";width: 100%;border-bottom: 1px solid gray;flex-grow: 1;}#sk-container-id-5 div.sk-label:hover label.sk-toggleable__label {background-color: #d4ebff;}#sk-container-id-5 div.sk-serial::before {content: \"\";position: absolute;border-left: 1px solid gray;box-sizing: border-box;top: 0;bottom: 0;left: 50%;z-index: 0;}#sk-container-id-5 div.sk-serial {display: flex;flex-direction: column;align-items: center;background-color: white;padding-right: 0.2em;padding-left: 0.2em;position: relative;}#sk-container-id-5 div.sk-item {position: relative;z-index: 1;}#sk-container-id-5 div.sk-parallel {display: flex;align-items: stretch;justify-content: center;background-color: white;position: relative;}#sk-container-id-5 div.sk-item::before, #sk-container-id-5 div.sk-parallel-item::before {content: \"\";position: absolute;border-left: 1px solid gray;box-sizing: border-box;top: 0;bottom: 0;left: 50%;z-index: -1;}#sk-container-id-5 div.sk-parallel-item {display: flex;flex-direction: column;z-index: 1;position: relative;background-color: white;}#sk-container-id-5 div.sk-parallel-item:first-child::after {align-self: flex-end;width: 50%;}#sk-container-id-5 div.sk-parallel-item:last-child::after {align-self: flex-start;width: 50%;}#sk-container-id-5 div.sk-parallel-item:only-child::after {width: 0;}#sk-container-id-5 div.sk-dashed-wrapped {border: 1px dashed gray;margin: 0 0.4em 0.5em 0.4em;box-sizing: border-box;padding-bottom: 0.4em;background-color: white;}#sk-container-id-5 div.sk-label label {font-family: monospace;font-weight: bold;display: inline-block;line-height: 1.2em;}#sk-container-id-5 div.sk-label-container {text-align: center;}#sk-container-id-5 div.sk-container {/* jupyter's `normalize.less` sets `[hidden] { display: none; }` but bootstrap.min.css set `[hidden] { display: none !important; }` so we also need the `!important` here to be able to override the default hidden behavior on the sphinx rendered scikit-learn.org. See: https://github.com/scikit-learn/scikit-learn/issues/21755 */display: inline-block !important;position: relative;}#sk-container-id-5 div.sk-text-repr-fallback {display: none;}</style><div id=\"sk-container-id-5\" class=\"sk-top-container\"><div class=\"sk-text-repr-fallback\"><pre>KNeighborsRegressor(n_neighbors=7)</pre><b>In a Jupyter environment, please rerun this cell to show the HTML representation or trust the notebook. <br />On GitHub, the HTML representation is unable to render, please try loading this page with nbviewer.org.</b></div><div class=\"sk-container\" hidden><div class=\"sk-item\"><div class=\"sk-estimator sk-toggleable\"><input class=\"sk-toggleable__control sk-hidden--visually\" id=\"sk-estimator-id-9\" type=\"checkbox\" checked><label for=\"sk-estimator-id-9\" class=\"sk-toggleable__label sk-toggleable__label-arrow\">KNeighborsRegressor</label><div class=\"sk-toggleable__content\"><pre>KNeighborsRegressor(n_neighbors=7)</pre></div></div></div></div></div>"
      ],
      "text/plain": [
       "KNeighborsRegressor(n_neighbors=7)"
      ]
     },
     "execution_count": 14,
     "metadata": {},
     "output_type": "execute_result"
    }
   ],
   "source": [
    "regressor = KNeighborsRegressor(n_neighbors=7,algorithm='auto')\n",
    "regressor.fit(x_train,y_train)"
   ]
  },
  {
   "cell_type": "code",
   "execution_count": 15,
   "metadata": {},
   "outputs": [],
   "source": [
    "y_pred = regressor.predict(x_test)"
   ]
  },
  {
   "cell_type": "code",
   "execution_count": 16,
   "metadata": {},
   "outputs": [
    {
     "name": "stdout",
     "output_type": "stream",
     "text": [
      "0.9190743939278913\n",
      "8.949111514931198\n",
      "127.22768910263548\n"
     ]
    }
   ],
   "source": [
    "print(r2_score(y_test,y_pred))\n",
    "print(mean_absolute_error(y_test,y_pred))\n",
    "print(mean_squared_error(y_test,y_pred))"
   ]
  },
  {
   "cell_type": "code",
   "execution_count": null,
   "metadata": {},
   "outputs": [],
   "source": []
  }
 ],
 "metadata": {
  "kernelspec": {
   "display_name": "Python 3",
   "language": "python",
   "name": "python3"
  },
  "language_info": {
   "codemirror_mode": {
    "name": "ipython",
    "version": 3
   },
   "file_extension": ".py",
   "mimetype": "text/x-python",
   "name": "python",
   "nbconvert_exporter": "python",
   "pygments_lexer": "ipython3",
   "version": "3.11.5"
  }
 },
 "nbformat": 4,
 "nbformat_minor": 2
}
